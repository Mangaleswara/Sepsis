{
 "cells": [
  {
   "cell_type": "markdown",
   "id": "2f023d9a",
   "metadata": {},
   "source": [
    "# Models for Sepsis prediction before 12 hours"
   ]
  },
  {
   "cell_type": "code",
   "execution_count": 35,
   "id": "a64ec4af",
   "metadata": {},
   "outputs": [],
   "source": [
    "import numpy as np\n",
    "import pandas as pd"
   ]
  },
  {
   "cell_type": "code",
   "execution_count": 36,
   "id": "6f5c0797",
   "metadata": {},
   "outputs": [],
   "source": [
    "data=pd.read_csv(\"total.csv\")\n",
    "df=pd.read_csv(\"test.csv\")"
   ]
  },
  {
   "cell_type": "code",
   "execution_count": 27,
   "id": "e2dba349",
   "metadata": {},
   "outputs": [],
   "source": [
    "data.drop(columns=data.columns[0], axis=1, inplace=True)"
   ]
  },
  {
   "cell_type": "markdown",
   "id": "c87f87d4",
   "metadata": {},
   "source": [
    "**Sepsis shift and imputation using forward fill**"
   ]
  },
  {
   "cell_type": "code",
   "execution_count": 37,
   "id": "e71e41f6",
   "metadata": {},
   "outputs": [],
   "source": [
    "data[\"sepsis_shift\"]= data.groupby('Patient_ID')['sepsis_label'].shift(-6)\n",
    "df[\"sepsis_shift\"]= df.groupby('Patient_ID')['sepsis_label'].shift(-6)"
   ]
  },
  {
   "cell_type": "code",
   "execution_count": 38,
   "id": "bab2dc05",
   "metadata": {},
   "outputs": [],
   "source": [
    "data[\"sepsis_shift\"] = data[\"sepsis_shift\"].fillna(method='ffill')\n",
    "df[\"sepsis_shift\"] = df[\"sepsis_shift\"].fillna(method='ffill')"
   ]
  },
  {
   "cell_type": "code",
   "execution_count": 39,
   "id": "5dcdbf8d",
   "metadata": {},
   "outputs": [],
   "source": [
    "X = data.drop([\"sepsis_label\",\"Patient_ID\",\"sepsis_shift\"],axis=1)\n",
    "y = data[\"sepsis_shift\"]"
   ]
  },
  {
   "cell_type": "markdown",
   "id": "0c1f3e99",
   "metadata": {},
   "source": [
    "**Sampling**"
   ]
  },
  {
   "cell_type": "code",
   "execution_count": 40,
   "id": "b772b2ad",
   "metadata": {},
   "outputs": [],
   "source": [
    "from imblearn.over_sampling import SMOTE\n",
    "oversample = SMOTE()\n",
    "X_train_over,y_train_over = oversample.fit_resample(X, y)"
   ]
  },
  {
   "cell_type": "code",
   "execution_count": 36,
   "id": "c4bb8d42",
   "metadata": {},
   "outputs": [],
   "source": [
    "from imblearn.under_sampling import NearMiss\n",
    "nr = NearMiss()\n",
    "X_train_over, y_train_over = nr.fit_resample(X, y.ravel())"
   ]
  },
  {
   "cell_type": "code",
   "execution_count": 41,
   "id": "04a9985f",
   "metadata": {},
   "outputs": [],
   "source": [
    "X_val = df.drop([\"sepsis_label\",\"Patient_ID\",\"sepsis_shift\"],axis=1)\n",
    "y_val=df[\"sepsis_shift\"]"
   ]
  },
  {
   "cell_type": "markdown",
   "id": "3b6b5484",
   "metadata": {},
   "source": [
    "**Standard Scaler**"
   ]
  },
  {
   "cell_type": "code",
   "execution_count": 43,
   "id": "8ac33b04",
   "metadata": {},
   "outputs": [],
   "source": [
    "from sklearn.linear_model import LogisticRegression\n",
    "from sklearn.metrics import classification_report, confusion_matrix\n",
    "from sklearn.preprocessing import StandardScaler, OneHotEncoder\n",
    "\n",
    "# Instantiate encoder/scaler\n",
    "scaler = StandardScaler()\n",
    "\n",
    "\n",
    "# train data\n",
    "# Scale and Encode Separate Columns\n",
    "train_scaled_columns  = scaler.fit_transform(X_train_over) \n",
    "train_x=scaler.fit_transform(X_train_over)\n",
    "#train_Y=scaler.fit_transform(y_train_over)\n",
    "#test_Y=scaler.fit_transform(y_val)\n",
    "test_x=scaler.fit_transform(X_val)"
   ]
  },
  {
   "cell_type": "markdown",
   "id": "1abcb3f2",
   "metadata": {},
   "source": [
    "**Logistic Regression**"
   ]
  },
  {
   "cell_type": "code",
   "execution_count": 27,
   "id": "be7b368f",
   "metadata": {},
   "outputs": [],
   "source": [
    "model = LogisticRegression(C=1.0, class_weight=None, dual=False, fit_intercept=True,\n",
    "                   intercept_scaling=1, l1_ratio=None, max_iter=1000,\n",
    "                   multi_class='auto', n_jobs=None, penalty='l2',\n",
    "                   random_state=123, solver='lbfgs', tol=0.0001, verbose=0,\n",
    "                   warm_start=False).fit(train_x,y_train_over)"
   ]
  },
  {
   "cell_type": "code",
   "execution_count": 28,
   "id": "4b1c5694",
   "metadata": {},
   "outputs": [
    {
     "data": {
      "text/plain": [
       "array([[51961, 44667],\n",
       "       [  768,  2604]], dtype=int64)"
      ]
     },
     "execution_count": 28,
     "metadata": {},
     "output_type": "execute_result"
    }
   ],
   "source": [
    "confusion_matrix(y_val, model.predict(test_x))"
   ]
  },
  {
   "cell_type": "code",
   "execution_count": 29,
   "id": "da9e0a8b",
   "metadata": {},
   "outputs": [
    {
     "name": "stdout",
     "output_type": "stream",
     "text": [
      "              precision    recall  f1-score   support\n",
      "\n",
      "         0.0       0.99      0.54      0.70     96628\n",
      "         1.0       0.06      0.77      0.10      3372\n",
      "\n",
      "    accuracy                           0.55    100000\n",
      "   macro avg       0.52      0.65      0.40    100000\n",
      "weighted avg       0.95      0.55      0.68    100000\n",
      "\n"
     ]
    }
   ],
   "source": [
    "print(classification_report(y_val, model.predict(test_x)))"
   ]
  },
  {
   "cell_type": "markdown",
   "id": "420b8856",
   "metadata": {},
   "source": [
    "Accuracy of 54% with recall of 77% for sepsis patients. Oversampling does better"
   ]
  },
  {
   "cell_type": "markdown",
   "id": "de6824e6",
   "metadata": {},
   "source": [
    "**Random Forest**"
   ]
  },
  {
   "cell_type": "code",
   "execution_count": 51,
   "id": "56b12769",
   "metadata": {},
   "outputs": [],
   "source": [
    "from sklearn.ensemble import RandomForestClassifier #undersample does better\n",
    "clf = RandomForestClassifier(n_estimators = 100)\n",
    "clf.fit(train_x, y_train_over)\n",
    "y_pred = clf.predict(test_x)"
   ]
  },
  {
   "cell_type": "code",
   "execution_count": 52,
   "id": "d0600635",
   "metadata": {},
   "outputs": [
    {
     "data": {
      "text/plain": [
       "array([[36522, 60106],\n",
       "       [ 1095,  2277]], dtype=int64)"
      ]
     },
     "execution_count": 52,
     "metadata": {},
     "output_type": "execute_result"
    }
   ],
   "source": [
    "confusion_matrix(y_val, y_pred)"
   ]
  },
  {
   "cell_type": "code",
   "execution_count": 53,
   "id": "8943f072",
   "metadata": {},
   "outputs": [
    {
     "name": "stdout",
     "output_type": "stream",
     "text": [
      "              precision    recall  f1-score   support\n",
      "\n",
      "         0.0       0.97      0.38      0.54     96628\n",
      "         1.0       0.04      0.68      0.07      3372\n",
      "\n",
      "    accuracy                           0.39    100000\n",
      "   macro avg       0.50      0.53      0.31    100000\n",
      "weighted avg       0.94      0.39      0.53    100000\n",
      "\n"
     ]
    }
   ],
   "source": [
    "print(classification_report(y_val, y_pred))"
   ]
  },
  {
   "cell_type": "markdown",
   "id": "05dac4a1",
   "metadata": {},
   "source": [
    "Accuracy of 39% with recall of 68% for sepsis patients. Undersampling does better"
   ]
  },
  {
   "cell_type": "markdown",
   "id": "00ca8dc7",
   "metadata": {},
   "source": [
    "**LightGBM**"
   ]
  },
  {
   "cell_type": "code",
   "execution_count": 38,
   "id": "4a1dfadd",
   "metadata": {},
   "outputs": [],
   "source": [
    "import lightgbm as lgb\n",
    "from lightgbm import LGBMClassifier"
   ]
  },
  {
   "cell_type": "code",
   "execution_count": 39,
   "id": "55af5e00",
   "metadata": {},
   "outputs": [],
   "source": [
    "model = LGBMClassifier() #undersample does better\n",
    "model.fit(train_x, y_train_over)\n",
    "pred = model.predict(test_x)\n",
    "accuracy = model.score(test_x, y_val)"
   ]
  },
  {
   "cell_type": "code",
   "execution_count": 40,
   "id": "555297e8",
   "metadata": {},
   "outputs": [
    {
     "data": {
      "text/plain": [
       "array([[32835, 63793],\n",
       "       [  424,  2948]], dtype=int64)"
      ]
     },
     "execution_count": 40,
     "metadata": {},
     "output_type": "execute_result"
    }
   ],
   "source": [
    "confusion_matrix(y_val, pred)"
   ]
  },
  {
   "cell_type": "code",
   "execution_count": 41,
   "id": "d02451c7",
   "metadata": {},
   "outputs": [
    {
     "name": "stdout",
     "output_type": "stream",
     "text": [
      "              precision    recall  f1-score   support\n",
      "\n",
      "         0.0       0.99      0.34      0.51     96628\n",
      "         1.0       0.04      0.87      0.08      3372\n",
      "\n",
      "    accuracy                           0.36    100000\n",
      "   macro avg       0.52      0.61      0.29    100000\n",
      "weighted avg       0.96      0.36      0.49    100000\n",
      "\n"
     ]
    }
   ],
   "source": [
    "print(classification_report(y_val, pred))"
   ]
  },
  {
   "cell_type": "markdown",
   "id": "05c75154",
   "metadata": {},
   "source": [
    "Accuracy of 36% with recall of 86% for sepsis patients. Undersampling does better"
   ]
  },
  {
   "cell_type": "markdown",
   "id": "4d5623b2",
   "metadata": {},
   "source": [
    "**Extra Trees Classifier**"
   ]
  },
  {
   "cell_type": "code",
   "execution_count": 42,
   "id": "4590833e",
   "metadata": {},
   "outputs": [],
   "source": [
    "from sklearn.ensemble import ExtraTreesClassifier #undersample does better\n",
    "extra_tree_forest = ExtraTreesClassifier(\n",
    "                                        criterion ='entropy')\n",
    "extra_tree_forest.fit(train_x, y_train_over)\n",
    "pred = extra_tree_forest.predict(test_x)\n",
    "accuracy = extra_tree_forest.score(test_x, y_val)"
   ]
  },
  {
   "cell_type": "code",
   "execution_count": 43,
   "id": "ec152a73",
   "metadata": {},
   "outputs": [
    {
     "data": {
      "text/plain": [
       "array([[38380, 58248],\n",
       "       [  528,  2844]], dtype=int64)"
      ]
     },
     "execution_count": 43,
     "metadata": {},
     "output_type": "execute_result"
    }
   ],
   "source": [
    "confusion_matrix(y_val, pred)"
   ]
  },
  {
   "cell_type": "code",
   "execution_count": 44,
   "id": "d46f6073",
   "metadata": {},
   "outputs": [
    {
     "name": "stdout",
     "output_type": "stream",
     "text": [
      "              precision    recall  f1-score   support\n",
      "\n",
      "         0.0       0.99      0.40      0.57     96628\n",
      "         1.0       0.05      0.84      0.09      3372\n",
      "\n",
      "    accuracy                           0.41    100000\n",
      "   macro avg       0.52      0.62      0.33    100000\n",
      "weighted avg       0.95      0.41      0.55    100000\n",
      "\n"
     ]
    }
   ],
   "source": [
    "print(classification_report(y_val, pred))"
   ]
  },
  {
   "cell_type": "markdown",
   "id": "5cef34a2",
   "metadata": {},
   "source": [
    "Accuracy of 41% with recall of 84% for sepsis patients. Undersampling does better"
   ]
  },
  {
   "cell_type": "markdown",
   "id": "fc2dd5a2",
   "metadata": {},
   "source": [
    "# Gaussian Naive bayes with 13 features"
   ]
  },
  {
   "cell_type": "code",
   "execution_count": 19,
   "id": "27c5f712",
   "metadata": {},
   "outputs": [],
   "source": [
    "#the best\n",
    "from sklearn.naive_bayes import GaussianNB #oversample does better\n",
    "gnb = GaussianNB()\n",
    "gnb.fit(train_x, y_train_over)\n",
    "y_pred = gnb.predict(test_x)"
   ]
  },
  {
   "cell_type": "code",
   "execution_count": 20,
   "id": "e08f5da2",
   "metadata": {},
   "outputs": [
    {
     "data": {
      "text/plain": [
       "array([[74494, 22134],\n",
       "       [ 1450,  1922]], dtype=int64)"
      ]
     },
     "execution_count": 20,
     "metadata": {},
     "output_type": "execute_result"
    }
   ],
   "source": [
    "confusion_matrix(y_val, y_pred)"
   ]
  },
  {
   "cell_type": "code",
   "execution_count": 21,
   "id": "63ae6ea7",
   "metadata": {},
   "outputs": [
    {
     "name": "stdout",
     "output_type": "stream",
     "text": [
      "              precision    recall  f1-score   support\n",
      "\n",
      "         0.0       0.98      0.77      0.86     96628\n",
      "         1.0       0.08      0.57      0.14      3372\n",
      "\n",
      "    accuracy                           0.76    100000\n",
      "   macro avg       0.53      0.67      0.50    100000\n",
      "weighted avg       0.95      0.76      0.84    100000\n",
      "\n"
     ]
    }
   ],
   "source": [
    "print(classification_report(y_val, y_pred))"
   ]
  },
  {
   "cell_type": "markdown",
   "id": "373b5056",
   "metadata": {},
   "source": [
    "Accuracy of 76% with recall of 57% for sepsis patients. Undersampling does better"
   ]
  },
  {
   "cell_type": "markdown",
   "id": "518021c0",
   "metadata": {},
   "source": [
    "**K Means**"
   ]
  },
  {
   "cell_type": "code",
   "execution_count": 44,
   "id": "ede92b9d",
   "metadata": {},
   "outputs": [],
   "source": [
    "from sklearn.cluster import KMeans\n",
    "model1=KMeans(n_clusters=2, random_state=0).fit(train_x)\n",
    "kmeans_pred=model1.fit_predict(test_x)"
   ]
  },
  {
   "cell_type": "code",
   "execution_count": 45,
   "id": "1a32d38d",
   "metadata": {},
   "outputs": [
    {
     "data": {
      "text/plain": [
       "array([[46313, 50315],\n",
       "       [ 1862,  1510]], dtype=int64)"
      ]
     },
     "execution_count": 45,
     "metadata": {},
     "output_type": "execute_result"
    }
   ],
   "source": [
    "confusion_matrix(y_val, kmeans_pred)"
   ]
  },
  {
   "cell_type": "code",
   "execution_count": 46,
   "id": "20dc7aa6",
   "metadata": {},
   "outputs": [
    {
     "name": "stdout",
     "output_type": "stream",
     "text": [
      "              precision    recall  f1-score   support\n",
      "\n",
      "         0.0       0.96      0.48      0.64     96628\n",
      "         1.0       0.03      0.45      0.05      3372\n",
      "\n",
      "    accuracy                           0.48    100000\n",
      "   macro avg       0.50      0.46      0.35    100000\n",
      "weighted avg       0.93      0.48      0.62    100000\n",
      "\n"
     ]
    }
   ],
   "source": [
    "print(classification_report(y_val, kmeans_pred))"
   ]
  },
  {
   "cell_type": "markdown",
   "id": "39d6f9d4",
   "metadata": {},
   "source": [
    "Accuracy of 48% with recall of 45% for sepsis patients. oversampling does better"
   ]
  },
  {
   "cell_type": "markdown",
   "id": "e1dc3691",
   "metadata": {},
   "source": [
    "# Support Vector Machines in pre-processed data by LDA with 13 features"
   ]
  },
  {
   "cell_type": "code",
   "execution_count": 7,
   "id": "e6903afc",
   "metadata": {},
   "outputs": [],
   "source": [
    "X = data.drop([\"sepsis_label\",\"Patient_ID\",\"HR\",\"O2Sat\",\"Temp\",\"SBP\",\"MAP\",\"DBP\",\"Resp\",\"BaseExcess\",\"PaCO2\",\"Calcium\",\"Chloride\",\n",
    "               \"Lactate\",\"Glucose\",\"Phosphate\",\"Hct\",\"Hgb\",\"PTT\",\"Age\",\"Platelets\",\"Temp_diff\",\"HR_diff\",\"HCO3\",\"SaO2\",\"pH\"\n",
    "              ,\"SBP_diff\",\"MAP_diff\",\"DBP_diff\",\"SPO2_diff\",\"Creatinine\",\"Bilirubin_total\",\"sepsis_shift\"],axis=1)\n",
    "y = data[\"sepsis_shift\"]"
   ]
  },
  {
   "cell_type": "code",
   "execution_count": 8,
   "id": "513667f7",
   "metadata": {},
   "outputs": [],
   "source": [
    "from imblearn.under_sampling import NearMiss\n",
    "nr = NearMiss()\n",
    "X_train_over, y_train_over = nr.fit_resample(X, y.ravel())"
   ]
  },
  {
   "cell_type": "code",
   "execution_count": 9,
   "id": "f6a8f9d4",
   "metadata": {},
   "outputs": [],
   "source": [
    "X_val = df.drop([\"sepsis_label\",\"Patient_ID\",\"HR\",\"O2Sat\",\"Temp\",\"SBP\",\"MAP\",\"DBP\",\"Resp\",\"BaseExcess\",\"PaCO2\",\"Calcium\",\"Chloride\",\n",
    "               \"Lactate\",\"Glucose\",\"Phosphate\",\"Hct\",\"Hgb\",\"PTT\",\"Age\",\"Platelets\",\"Temp_diff\",\"HR_diff\",\"HCO3\",\"SaO2\",\"pH\"\n",
    "              ,\"SBP_diff\",\"MAP_diff\",\"DBP_diff\",\"SPO2_diff\",\"Creatinine\",\"Bilirubin_total\",\"sepsis_shift\"],axis=1)\n",
    "y_val=df[\"sepsis_shift\"]"
   ]
  },
  {
   "cell_type": "code",
   "execution_count": 10,
   "id": "8a956a52",
   "metadata": {},
   "outputs": [],
   "source": [
    "from sklearn.linear_model import LogisticRegression\n",
    "from sklearn.metrics import classification_report, confusion_matrix\n",
    "from sklearn.preprocessing import StandardScaler, OneHotEncoder\n",
    "\n",
    "# Instantiate encoder/scaler\n",
    "scaler = StandardScaler()\n",
    "\n",
    "\n",
    "# train data\n",
    "# Scale and Encode Separate Columns\n",
    "train_scaled_columns  = scaler.fit_transform(X_train_over) \n",
    "train_x=scaler.fit_transform(X_train_over)\n",
    "#train_Y=scaler.fit_transform(y_train_over)\n",
    "#test_Y=scaler.fit_transform(y_val)\n",
    "test_x=scaler.fit_transform(X_val)"
   ]
  },
  {
   "cell_type": "code",
   "execution_count": 11,
   "id": "a4ed0c40",
   "metadata": {},
   "outputs": [],
   "source": [
    "from sklearn.discriminant_analysis import LinearDiscriminantAnalysis as LDA\n",
    "\n",
    "lda = LDA()\n",
    "model=lda.fit(train_x, y_train_over)\n",
    "y_pred=model.predict(test_x)\n",
    "X_train_lda = lda.transform(train_x)\n",
    "X_test_lda = lda.transform(test_x)"
   ]
  },
  {
   "cell_type": "code",
   "execution_count": 12,
   "id": "c32a6e15",
   "metadata": {},
   "outputs": [],
   "source": [
    "from sklearn.svm import SVC  \n",
    "clf = SVC(C=1000,kernel='poly') "
   ]
  },
  {
   "cell_type": "code",
   "execution_count": 13,
   "id": "f23c4e47",
   "metadata": {},
   "outputs": [],
   "source": [
    "model=clf.fit(X_train_lda, y_train_over)"
   ]
  },
  {
   "cell_type": "code",
   "execution_count": 14,
   "id": "a4f060ac",
   "metadata": {},
   "outputs": [],
   "source": [
    "pred=model.predict(X_test_lda)"
   ]
  },
  {
   "cell_type": "code",
   "execution_count": 15,
   "id": "85bdf676",
   "metadata": {},
   "outputs": [
    {
     "data": {
      "text/plain": [
       "array([[83724, 12904],\n",
       "       [ 1918,  1454]], dtype=int64)"
      ]
     },
     "execution_count": 15,
     "metadata": {},
     "output_type": "execute_result"
    }
   ],
   "source": [
    "confusion_matrix(y_val, pred)"
   ]
  },
  {
   "cell_type": "code",
   "execution_count": 16,
   "id": "f3475188",
   "metadata": {},
   "outputs": [
    {
     "name": "stdout",
     "output_type": "stream",
     "text": [
      "              precision    recall  f1-score   support\n",
      "\n",
      "         0.0       0.98      0.87      0.92     96628\n",
      "         1.0       0.10      0.43      0.16      3372\n",
      "\n",
      "    accuracy                           0.85    100000\n",
      "   macro avg       0.54      0.65      0.54    100000\n",
      "weighted avg       0.95      0.85      0.89    100000\n",
      "\n"
     ]
    }
   ],
   "source": [
    "print(classification_report(y_val, pred))"
   ]
  },
  {
   "cell_type": "markdown",
   "id": "5d9ccad8",
   "metadata": {},
   "source": [
    "**Accuracy of 85% with recall of 43% for sepsis patients**"
   ]
  }
 ],
 "metadata": {
  "kernelspec": {
   "display_name": "Python 3 (ipykernel)",
   "language": "python",
   "name": "python3"
  },
  "language_info": {
   "codemirror_mode": {
    "name": "ipython",
    "version": 3
   },
   "file_extension": ".py",
   "mimetype": "text/x-python",
   "name": "python",
   "nbconvert_exporter": "python",
   "pygments_lexer": "ipython3",
   "version": "3.9.12"
  }
 },
 "nbformat": 4,
 "nbformat_minor": 5
}
